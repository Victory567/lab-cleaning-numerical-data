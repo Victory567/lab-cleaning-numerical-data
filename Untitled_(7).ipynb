{
  "cells": [
    {
      "cell_type": "markdown",
      "metadata": {
        "id": "view-in-github",
        "colab_type": "text"
      },
      "source": [
        "<a href=\"https://colab.research.google.com/github/Victory567/lab-cleaning-numerical-data/blob/master/Untitled_(7).ipynb\" target=\"_parent\"><img src=\"https://colab.research.google.com/assets/colab-badge.svg\" alt=\"Open In Colab\"/></a>"
      ]
    },
    {
      "cell_type": "code",
      "execution_count": null,
      "id": "db6269c7",
      "metadata": {
        "id": "db6269c7"
      },
      "outputs": [],
      "source": [
        "import pandas as pd\n",
        "import numpy as np\n",
        "import datetime\n",
        "import warnings\n",
        "import matplotlib.pyplot as plt\n",
        "import seaborn as sns\n",
        "\n",
        "pd.set_option('display.max_columns', None)\n",
        "warnings.filterwarnings('ignore')"
      ]
    },
    {
      "cell_type": "code",
      "execution_count": null,
      "id": "cc23b6c7",
      "metadata": {
        "id": "cc23b6c7",
        "outputId": "a5063282-1633-484e-dd35-a46d02ebc3b0"
      },
      "outputs": [
        {
          "data": {
            "text/html": [
              "<div>\n",
              "<style scoped>\n",
              "    .dataframe tbody tr th:only-of-type {\n",
              "        vertical-align: middle;\n",
              "    }\n",
              "\n",
              "    .dataframe tbody tr th {\n",
              "        vertical-align: top;\n",
              "    }\n",
              "\n",
              "    .dataframe thead th {\n",
              "        text-align: right;\n",
              "    }\n",
              "</style>\n",
              "<table border=\"1\" class=\"dataframe\">\n",
              "  <thead>\n",
              "    <tr style=\"text-align: right;\">\n",
              "      <th></th>\n",
              "      <th>Customer</th>\n",
              "      <th>State</th>\n",
              "      <th>Customer Lifetime Value</th>\n",
              "      <th>Response</th>\n",
              "      <th>Coverage</th>\n",
              "      <th>Education</th>\n",
              "      <th>Effective To Date</th>\n",
              "      <th>EmploymentStatus</th>\n",
              "      <th>Gender</th>\n",
              "      <th>Income</th>\n",
              "      <th>Location Code</th>\n",
              "      <th>Marital Status</th>\n",
              "      <th>Monthly Premium Auto</th>\n",
              "      <th>Months Since Last Claim</th>\n",
              "      <th>Months Since Policy Inception</th>\n",
              "      <th>Number of Open Complaints</th>\n",
              "      <th>Number of Policies</th>\n",
              "      <th>Policy Type</th>\n",
              "      <th>Policy</th>\n",
              "      <th>Renew Offer Type</th>\n",
              "      <th>Sales Channel</th>\n",
              "      <th>Total Claim Amount</th>\n",
              "      <th>Vehicle Class</th>\n",
              "      <th>Vehicle Size</th>\n",
              "    </tr>\n",
              "  </thead>\n",
              "  <tbody>\n",
              "    <tr>\n",
              "      <th>0</th>\n",
              "      <td>BU79786</td>\n",
              "      <td>Washington</td>\n",
              "      <td>2763.519279</td>\n",
              "      <td>No</td>\n",
              "      <td>Basic</td>\n",
              "      <td>Bachelor</td>\n",
              "      <td>2/24/11</td>\n",
              "      <td>Employed</td>\n",
              "      <td>F</td>\n",
              "      <td>56274</td>\n",
              "      <td>Suburban</td>\n",
              "      <td>Married</td>\n",
              "      <td>69</td>\n",
              "      <td>32</td>\n",
              "      <td>5</td>\n",
              "      <td>0</td>\n",
              "      <td>1</td>\n",
              "      <td>Corporate Auto</td>\n",
              "      <td>Corporate L3</td>\n",
              "      <td>Offer1</td>\n",
              "      <td>Agent</td>\n",
              "      <td>384.811147</td>\n",
              "      <td>Two-Door Car</td>\n",
              "      <td>Medsize</td>\n",
              "    </tr>\n",
              "    <tr>\n",
              "      <th>1</th>\n",
              "      <td>QZ44356</td>\n",
              "      <td>Arizona</td>\n",
              "      <td>6979.535903</td>\n",
              "      <td>No</td>\n",
              "      <td>Extended</td>\n",
              "      <td>Bachelor</td>\n",
              "      <td>1/31/11</td>\n",
              "      <td>Unemployed</td>\n",
              "      <td>F</td>\n",
              "      <td>0</td>\n",
              "      <td>Suburban</td>\n",
              "      <td>Single</td>\n",
              "      <td>94</td>\n",
              "      <td>13</td>\n",
              "      <td>42</td>\n",
              "      <td>0</td>\n",
              "      <td>8</td>\n",
              "      <td>Personal Auto</td>\n",
              "      <td>Personal L3</td>\n",
              "      <td>Offer3</td>\n",
              "      <td>Agent</td>\n",
              "      <td>1131.464935</td>\n",
              "      <td>Four-Door Car</td>\n",
              "      <td>Medsize</td>\n",
              "    </tr>\n",
              "    <tr>\n",
              "      <th>2</th>\n",
              "      <td>AI49188</td>\n",
              "      <td>Nevada</td>\n",
              "      <td>12887.431650</td>\n",
              "      <td>No</td>\n",
              "      <td>Premium</td>\n",
              "      <td>Bachelor</td>\n",
              "      <td>2/19/11</td>\n",
              "      <td>Employed</td>\n",
              "      <td>F</td>\n",
              "      <td>48767</td>\n",
              "      <td>Suburban</td>\n",
              "      <td>Married</td>\n",
              "      <td>108</td>\n",
              "      <td>18</td>\n",
              "      <td>38</td>\n",
              "      <td>0</td>\n",
              "      <td>2</td>\n",
              "      <td>Personal Auto</td>\n",
              "      <td>Personal L3</td>\n",
              "      <td>Offer1</td>\n",
              "      <td>Agent</td>\n",
              "      <td>566.472247</td>\n",
              "      <td>Two-Door Car</td>\n",
              "      <td>Medsize</td>\n",
              "    </tr>\n",
              "    <tr>\n",
              "      <th>3</th>\n",
              "      <td>WW63253</td>\n",
              "      <td>California</td>\n",
              "      <td>7645.861827</td>\n",
              "      <td>No</td>\n",
              "      <td>Basic</td>\n",
              "      <td>Bachelor</td>\n",
              "      <td>1/20/11</td>\n",
              "      <td>Unemployed</td>\n",
              "      <td>M</td>\n",
              "      <td>0</td>\n",
              "      <td>Suburban</td>\n",
              "      <td>Married</td>\n",
              "      <td>106</td>\n",
              "      <td>18</td>\n",
              "      <td>65</td>\n",
              "      <td>0</td>\n",
              "      <td>7</td>\n",
              "      <td>Corporate Auto</td>\n",
              "      <td>Corporate L2</td>\n",
              "      <td>Offer1</td>\n",
              "      <td>Call Center</td>\n",
              "      <td>529.881344</td>\n",
              "      <td>SUV</td>\n",
              "      <td>Medsize</td>\n",
              "    </tr>\n",
              "    <tr>\n",
              "      <th>4</th>\n",
              "      <td>HB64268</td>\n",
              "      <td>Washington</td>\n",
              "      <td>2813.692575</td>\n",
              "      <td>No</td>\n",
              "      <td>Basic</td>\n",
              "      <td>Bachelor</td>\n",
              "      <td>2/3/11</td>\n",
              "      <td>Employed</td>\n",
              "      <td>M</td>\n",
              "      <td>43836</td>\n",
              "      <td>Rural</td>\n",
              "      <td>Single</td>\n",
              "      <td>73</td>\n",
              "      <td>12</td>\n",
              "      <td>44</td>\n",
              "      <td>0</td>\n",
              "      <td>1</td>\n",
              "      <td>Personal Auto</td>\n",
              "      <td>Personal L1</td>\n",
              "      <td>Offer1</td>\n",
              "      <td>Agent</td>\n",
              "      <td>138.130879</td>\n",
              "      <td>Four-Door Car</td>\n",
              "      <td>Medsize</td>\n",
              "    </tr>\n",
              "  </tbody>\n",
              "</table>\n",
              "</div>"
            ],
            "text/plain": [
              "  Customer       State  Customer Lifetime Value Response  Coverage Education  \\\n",
              "0  BU79786  Washington              2763.519279       No     Basic  Bachelor   \n",
              "1  QZ44356     Arizona              6979.535903       No  Extended  Bachelor   \n",
              "2  AI49188      Nevada             12887.431650       No   Premium  Bachelor   \n",
              "3  WW63253  California              7645.861827       No     Basic  Bachelor   \n",
              "4  HB64268  Washington              2813.692575       No     Basic  Bachelor   \n",
              "\n",
              "  Effective To Date EmploymentStatus Gender  Income Location Code  \\\n",
              "0           2/24/11         Employed      F   56274      Suburban   \n",
              "1           1/31/11       Unemployed      F       0      Suburban   \n",
              "2           2/19/11         Employed      F   48767      Suburban   \n",
              "3           1/20/11       Unemployed      M       0      Suburban   \n",
              "4            2/3/11         Employed      M   43836         Rural   \n",
              "\n",
              "  Marital Status  Monthly Premium Auto  Months Since Last Claim  \\\n",
              "0        Married                    69                       32   \n",
              "1         Single                    94                       13   \n",
              "2        Married                   108                       18   \n",
              "3        Married                   106                       18   \n",
              "4         Single                    73                       12   \n",
              "\n",
              "   Months Since Policy Inception  Number of Open Complaints  \\\n",
              "0                              5                          0   \n",
              "1                             42                          0   \n",
              "2                             38                          0   \n",
              "3                             65                          0   \n",
              "4                             44                          0   \n",
              "\n",
              "   Number of Policies     Policy Type        Policy Renew Offer Type  \\\n",
              "0                   1  Corporate Auto  Corporate L3           Offer1   \n",
              "1                   8   Personal Auto   Personal L3           Offer3   \n",
              "2                   2   Personal Auto   Personal L3           Offer1   \n",
              "3                   7  Corporate Auto  Corporate L2           Offer1   \n",
              "4                   1   Personal Auto   Personal L1           Offer1   \n",
              "\n",
              "  Sales Channel  Total Claim Amount  Vehicle Class Vehicle Size  \n",
              "0         Agent          384.811147   Two-Door Car      Medsize  \n",
              "1         Agent         1131.464935  Four-Door Car      Medsize  \n",
              "2         Agent          566.472247   Two-Door Car      Medsize  \n",
              "3   Call Center          529.881344            SUV      Medsize  \n",
              "4         Agent          138.130879  Four-Door Car      Medsize  "
            ]
          },
          "execution_count": 2,
          "metadata": {},
          "output_type": "execute_result"
        }
      ],
      "source": [
        "df = pd.read_csv('we_fn_use_c_marketing_customer_value_analysis.csv') \n",
        "df.head()"
      ]
    },
    {
      "cell_type": "code",
      "execution_count": null,
      "id": "899409e4",
      "metadata": {
        "id": "899409e4",
        "outputId": "e1d4742e-e416-40d1-b103-a0914f19f657"
      },
      "outputs": [
        {
          "data": {
            "text/plain": [
              "(9134, 24)"
            ]
          },
          "execution_count": 3,
          "metadata": {},
          "output_type": "execute_result"
        }
      ],
      "source": [
        "df.shape"
      ]
    },
    {
      "cell_type": "code",
      "execution_count": null,
      "id": "0f9bff58",
      "metadata": {
        "id": "0f9bff58",
        "outputId": "1aa914ed-7bf7-4b11-c8b6-59f26cd0618d"
      },
      "outputs": [
        {
          "data": {
            "text/plain": [
              "<bound method DataFrame.info of      Customer       State  Customer Lifetime Value Response  Coverage  \\\n",
              "0     BU79786  Washington              2763.519279       No     Basic   \n",
              "1     QZ44356     Arizona              6979.535903       No  Extended   \n",
              "2     AI49188      Nevada             12887.431650       No   Premium   \n",
              "3     WW63253  California              7645.861827       No     Basic   \n",
              "4     HB64268  Washington              2813.692575       No     Basic   \n",
              "...       ...         ...                      ...      ...       ...   \n",
              "9129  LA72316  California             23405.987980       No     Basic   \n",
              "9130  PK87824  California              3096.511217      Yes  Extended   \n",
              "9131  TD14365  California              8163.890428       No  Extended   \n",
              "9132  UP19263  California              7524.442436       No  Extended   \n",
              "9133  Y167826  California              2611.836866       No  Extended   \n",
              "\n",
              "     Education Effective To Date EmploymentStatus Gender  Income  \\\n",
              "0     Bachelor           2/24/11         Employed      F   56274   \n",
              "1     Bachelor           1/31/11       Unemployed      F       0   \n",
              "2     Bachelor           2/19/11         Employed      F   48767   \n",
              "3     Bachelor           1/20/11       Unemployed      M       0   \n",
              "4     Bachelor            2/3/11         Employed      M   43836   \n",
              "...        ...               ...              ...    ...     ...   \n",
              "9129  Bachelor           2/10/11         Employed      M   71941   \n",
              "9130   College           2/12/11         Employed      F   21604   \n",
              "9131  Bachelor            2/6/11       Unemployed      M       0   \n",
              "9132   College            2/3/11         Employed      M   21941   \n",
              "9133   College           2/14/11       Unemployed      M       0   \n",
              "\n",
              "     Location Code Marital Status  Monthly Premium Auto  \\\n",
              "0         Suburban        Married                    69   \n",
              "1         Suburban         Single                    94   \n",
              "2         Suburban        Married                   108   \n",
              "3         Suburban        Married                   106   \n",
              "4            Rural         Single                    73   \n",
              "...            ...            ...                   ...   \n",
              "9129         Urban        Married                    73   \n",
              "9130      Suburban       Divorced                    79   \n",
              "9131      Suburban         Single                    85   \n",
              "9132      Suburban        Married                    96   \n",
              "9133      Suburban         Single                    77   \n",
              "\n",
              "      Months Since Last Claim  Months Since Policy Inception  \\\n",
              "0                          32                              5   \n",
              "1                          13                             42   \n",
              "2                          18                             38   \n",
              "3                          18                             65   \n",
              "4                          12                             44   \n",
              "...                       ...                            ...   \n",
              "9129                       18                             89   \n",
              "9130                       14                             28   \n",
              "9131                        9                             37   \n",
              "9132                       34                              3   \n",
              "9133                        3                             90   \n",
              "\n",
              "      Number of Open Complaints  Number of Policies     Policy Type  \\\n",
              "0                             0                   1  Corporate Auto   \n",
              "1                             0                   8   Personal Auto   \n",
              "2                             0                   2   Personal Auto   \n",
              "3                             0                   7  Corporate Auto   \n",
              "4                             0                   1   Personal Auto   \n",
              "...                         ...                 ...             ...   \n",
              "9129                          0                   2   Personal Auto   \n",
              "9130                          0                   1  Corporate Auto   \n",
              "9131                          3                   2  Corporate Auto   \n",
              "9132                          0                   3   Personal Auto   \n",
              "9133                          0                   1  Corporate Auto   \n",
              "\n",
              "            Policy Renew Offer Type Sales Channel  Total Claim Amount  \\\n",
              "0     Corporate L3           Offer1         Agent          384.811147   \n",
              "1      Personal L3           Offer3         Agent         1131.464935   \n",
              "2      Personal L3           Offer1         Agent          566.472247   \n",
              "3     Corporate L2           Offer1   Call Center          529.881344   \n",
              "4      Personal L1           Offer1         Agent          138.130879   \n",
              "...            ...              ...           ...                 ...   \n",
              "9129   Personal L1           Offer2           Web          198.234764   \n",
              "9130  Corporate L3           Offer1        Branch          379.200000   \n",
              "9131  Corporate L2           Offer1        Branch          790.784983   \n",
              "9132   Personal L2           Offer3        Branch          691.200000   \n",
              "9133  Corporate L3           Offer4   Call Center          369.600000   \n",
              "\n",
              "      Vehicle Class Vehicle Size  \n",
              "0      Two-Door Car      Medsize  \n",
              "1     Four-Door Car      Medsize  \n",
              "2      Two-Door Car      Medsize  \n",
              "3               SUV      Medsize  \n",
              "4     Four-Door Car      Medsize  \n",
              "...             ...          ...  \n",
              "9129  Four-Door Car      Medsize  \n",
              "9130  Four-Door Car      Medsize  \n",
              "9131  Four-Door Car      Medsize  \n",
              "9132  Four-Door Car        Large  \n",
              "9133   Two-Door Car      Medsize  \n",
              "\n",
              "[9134 rows x 24 columns]>"
            ]
          },
          "execution_count": 4,
          "metadata": {},
          "output_type": "execute_result"
        }
      ],
      "source": [
        "df.info "
      ]
    },
    {
      "cell_type": "code",
      "execution_count": null,
      "id": "e0863a84",
      "metadata": {
        "id": "e0863a84"
      },
      "outputs": [],
      "source": [
        "customer_df = pd.DataFrame({'event': ['A', 'B', 'C'],\n",
        "                   'start_date': ['20150601', '20160201', '20170401'],\n",
        "                   'end_date': ['20150608', '20160209', '20170416'] })\n"
      ]
    },
    {
      "cell_type": "code",
      "execution_count": null,
      "id": "7dacb427",
      "metadata": {
        "id": "7dacb427"
      },
      "outputs": [],
      "source": [
        "import matplotlib.pyplot as plt\n"
      ]
    },
    {
      "cell_type": "code",
      "execution_count": null,
      "id": "525bb671",
      "metadata": {
        "id": "525bb671",
        "outputId": "cca33e13-6194-47b0-cfb9-456940161c8a"
      },
      "outputs": [
        {
          "data": {
            "image/png": "[encoded data removed]",
            "text/plain": [
              "<Figure size 1368x1080 with 2 Axes>"
            ]
          },
          "metadata": {
            "needs_background": "light"
          },
          "output_type": "display_data"
        }
      ],
      "source": [
        "f = plt.figure(figsize=(19, 15))\n",
        "plt.matshow(df.corr(), fignum=f.number)\n",
        "plt.xticks(range(df.select_dtypes(['number']).shape[1]), df.select_dtypes(['number']).columns, fontsize=14, rotation=45)\n",
        "plt.yticks(range(df.select_dtypes(['number']).shape[1]), df.select_dtypes(['number']).columns, fontsize=14)\n",
        "cb = plt.colorbar()\n",
        "cb.ax.tick_params(labelsize=14)\n",
        "plt.title('Correlation Matrix', fontsize=16);"
      ]
    },
    {
      "cell_type": "code",
      "execution_count": null,
      "id": "33bbcbaa",
      "metadata": {
        "id": "33bbcbaa",
        "outputId": "e964a909-468e-4451-e04d-3775e13ada85"
      },
      "outputs": [
        {
          "data": {
            "image/png": "[encoded data removed]",
            "text/plain": [
              "<Figure size 432x288 with 1 Axes>"
            ]
          },
          "metadata": {
            "needs_background": "light"
          },
          "output_type": "display_data"
        }
      ],
      "source": [
        "plt.hist(df['Income'].interpolate(method='polynomial', order=2), bins=20) \n",
        "plt.show()"
      ]
    },
    {
      "cell_type": "code",
      "execution_count": null,
      "id": "56d72183",
      "metadata": {
        "id": "56d72183",
        "outputId": "4b7be06a-69c5-43c9-96ad-659b0d5ae879"
      },
      "outputs": [
        {
          "data": {
            "image/png": "[encoded data removed]",
            "text/plain": [
              "<Figure size 432x288 with 1 Axes>"
            ]
          },
          "metadata": {
            "needs_background": "light"
          },
          "output_type": "display_data"
        }
      ],
      "source": [
        "plt.hist(df['Total Claim Amount'].interpolate(method='polynomial', order=2), bins=20) \n",
        "plt.show()"
      ]
    },
    {
      "cell_type": "code",
      "execution_count": null,
      "id": "bd7586dc",
      "metadata": {
        "id": "bd7586dc",
        "outputId": "d331af4f-88fd-44ee-9122-eb0b87f347ba"
      },
      "outputs": [
        {
          "data": {
            "image/png": "[encoded data removed]",
            "text/plain": [
              "<Figure size 432x288 with 1 Axes>"
            ]
          },
          "metadata": {
            "needs_background": "light"
          },
          "output_type": "display_data"
        }
      ],
      "source": [
        "plt.hist(df['Education'].interpolate(method='polynomial', order=2), bins=20) \n",
        "plt.show()"
      ]
    },
    {
      "cell_type": "code",
      "execution_count": null,
      "id": "38fc3e3f",
      "metadata": {
        "id": "38fc3e3f",
        "outputId": "19db4075-4f15-4f9a-f527-1e423fef031d"
      },
      "outputs": [
        {
          "data": {
            "image/png": "[encoded data removed]",
            "text/plain": [
              "<Figure size 432x288 with 1 Axes>"
            ]
          },
          "metadata": {
            "needs_background": "light"
          },
          "output_type": "display_data"
        }
      ],
      "source": [
        "plt.hist(df['EmploymentStatus'].interpolate(method='polynomial', order=2), bins=20) \n",
        "plt.show()"
      ]
    },
    {
      "cell_type": "code",
      "execution_count": null,
      "id": "8af26db8",
      "metadata": {
        "id": "8af26db8",
        "outputId": "83e02db6-07c3-48ed-89de-955d16dcf7e4"
      },
      "outputs": [
        {
          "data": {
            "image/png": "[encoded data removed]",
            "text/plain": [
              "<Figure size 432x288 with 1 Axes>"
            ]
          },
          "metadata": {
            "needs_background": "light"
          },
          "output_type": "display_data"
        }
      ],
      "source": [
        "plt.hist(df['Gender'].interpolate(method='polynomial', order=2), bins=20) \n",
        "plt.show()"
      ]
    },
    {
      "cell_type": "code",
      "execution_count": null,
      "id": "75f0e894",
      "metadata": {
        "id": "75f0e894",
        "outputId": "766d202c-ee2e-4135-fa58-b26263cbe42d"
      },
      "outputs": [
        {
          "data": {
            "image/png": "[encoded data removed]",
            "text/plain": [
              "<Figure size 432x288 with 1 Axes>"
            ]
          },
          "metadata": {
            "needs_background": "light"
          },
          "output_type": "display_data"
        }
      ],
      "source": [
        "plt.hist(df['Income'].interpolate(method='polynomial', order=2), bins=20) \n",
        "plt.show()"
      ]
    },
    {
      "cell_type": "code",
      "execution_count": null,
      "id": "011da55a",
      "metadata": {
        "id": "011da55a",
        "outputId": "086583e2-07a2-4ad8-ec00-796efc1ba94e"
      },
      "outputs": [
        {
          "data": {
            "text/plain": [
              "<AxesSubplot:xlabel='Total Claim Amount', ylabel='Density'>"
            ]
          },
          "execution_count": 14,
          "metadata": {},
          "output_type": "execute_result"
        },
        {
          "data": {
            "image/png": "[encoded data removed]",
            "text/plain": [
              "<Figure size 432x288 with 1 Axes>"
            ]
          },
          "metadata": {
            "needs_background": "light"
          },
          "output_type": "display_data"
        }
      ],
      "source": [
        "sns.distplot(df['Total Claim Amount'])"
      ]
    },
    {
      "cell_type": "code",
      "execution_count": null,
      "id": "16e7c767",
      "metadata": {
        "id": "16e7c767",
        "outputId": "08e3d8e6-f5df-4657-9757-968744cb8427"
      },
      "outputs": [
        {
          "data": {
            "image/png": "[encoded data removed]",
            "text/plain": [
              "<Figure size 432x288 with 1 Axes>"
            ]
          },
          "metadata": {
            "needs_background": "light"
          },
          "output_type": "display_data"
        }
      ],
      "source": [
        "sns.boxplot(df['Total Claim Amount'])\n",
        "plt.show()\n"
      ]
    },
    {
      "cell_type": "code",
      "execution_count": null,
      "id": "1771193f",
      "metadata": {
        "id": "1771193f",
        "outputId": "e1489355-c899-481c-d576-53bd07685020"
      },
      "outputs": [
        {
          "data": {
            "text/html": [
              "<div>\n",
              "<style scoped>\n",
              "    .dataframe tbody tr th:only-of-type {\n",
              "        vertical-align: middle;\n",
              "    }\n",
              "\n",
              "    .dataframe tbody tr th {\n",
              "        vertical-align: top;\n",
              "    }\n",
              "\n",
              "    .dataframe thead th {\n",
              "        text-align: right;\n",
              "    }\n",
              "</style>\n",
              "<table border=\"1\" class=\"dataframe\">\n",
              "  <thead>\n",
              "    <tr style=\"text-align: right;\">\n",
              "      <th></th>\n",
              "      <th>Customer</th>\n",
              "      <th>State</th>\n",
              "      <th>Customer Lifetime Value</th>\n",
              "      <th>Response</th>\n",
              "      <th>Coverage</th>\n",
              "      <th>Education</th>\n",
              "      <th>Effective To Date</th>\n",
              "      <th>EmploymentStatus</th>\n",
              "      <th>Gender</th>\n",
              "      <th>Income</th>\n",
              "      <th>Location Code</th>\n",
              "      <th>Marital Status</th>\n",
              "      <th>Monthly Premium Auto</th>\n",
              "      <th>Months Since Last Claim</th>\n",
              "      <th>Months Since Policy Inception</th>\n",
              "      <th>Number of Open Complaints</th>\n",
              "      <th>Number of Policies</th>\n",
              "      <th>Policy Type</th>\n",
              "      <th>Policy</th>\n",
              "      <th>Renew Offer Type</th>\n",
              "      <th>Sales Channel</th>\n",
              "      <th>Total Claim Amount</th>\n",
              "      <th>Vehicle Class</th>\n",
              "      <th>Vehicle Size</th>\n",
              "    </tr>\n",
              "  </thead>\n",
              "  <tbody>\n",
              "    <tr>\n",
              "      <th>0</th>\n",
              "      <td>BU79786</td>\n",
              "      <td>Washington</td>\n",
              "      <td>2763.519279</td>\n",
              "      <td>No</td>\n",
              "      <td>Basic</td>\n",
              "      <td>Bachelor</td>\n",
              "      <td>2/24/11</td>\n",
              "      <td>Employed</td>\n",
              "      <td>F</td>\n",
              "      <td>56274</td>\n",
              "      <td>Suburban</td>\n",
              "      <td>Married</td>\n",
              "      <td>69</td>\n",
              "      <td>32</td>\n",
              "      <td>5</td>\n",
              "      <td>0</td>\n",
              "      <td>1</td>\n",
              "      <td>Corporate Auto</td>\n",
              "      <td>Corporate L3</td>\n",
              "      <td>Offer1</td>\n",
              "      <td>Agent</td>\n",
              "      <td>384.811147</td>\n",
              "      <td>Two-Door Car</td>\n",
              "      <td>Medsize</td>\n",
              "    </tr>\n",
              "    <tr>\n",
              "      <th>1</th>\n",
              "      <td>QZ44356</td>\n",
              "      <td>Arizona</td>\n",
              "      <td>6979.535903</td>\n",
              "      <td>No</td>\n",
              "      <td>Extended</td>\n",
              "      <td>Bachelor</td>\n",
              "      <td>1/31/11</td>\n",
              "      <td>Unemployed</td>\n",
              "      <td>F</td>\n",
              "      <td>0</td>\n",
              "      <td>Suburban</td>\n",
              "      <td>Single</td>\n",
              "      <td>94</td>\n",
              "      <td>13</td>\n",
              "      <td>42</td>\n",
              "      <td>0</td>\n",
              "      <td>8</td>\n",
              "      <td>Personal Auto</td>\n",
              "      <td>Personal L3</td>\n",
              "      <td>Offer3</td>\n",
              "      <td>Agent</td>\n",
              "      <td>1131.464935</td>\n",
              "      <td>Four-Door Car</td>\n",
              "      <td>Medsize</td>\n",
              "    </tr>\n",
              "    <tr>\n",
              "      <th>2</th>\n",
              "      <td>AI49188</td>\n",
              "      <td>Nevada</td>\n",
              "      <td>12887.431650</td>\n",
              "      <td>No</td>\n",
              "      <td>Premium</td>\n",
              "      <td>Bachelor</td>\n",
              "      <td>2/19/11</td>\n",
              "      <td>Employed</td>\n",
              "      <td>F</td>\n",
              "      <td>48767</td>\n",
              "      <td>Suburban</td>\n",
              "      <td>Married</td>\n",
              "      <td>108</td>\n",
              "      <td>18</td>\n",
              "      <td>38</td>\n",
              "      <td>0</td>\n",
              "      <td>2</td>\n",
              "      <td>Personal Auto</td>\n",
              "      <td>Personal L3</td>\n",
              "      <td>Offer1</td>\n",
              "      <td>Agent</td>\n",
              "      <td>566.472247</td>\n",
              "      <td>Two-Door Car</td>\n",
              "      <td>Medsize</td>\n",
              "    </tr>\n",
              "    <tr>\n",
              "      <th>3</th>\n",
              "      <td>WW63253</td>\n",
              "      <td>California</td>\n",
              "      <td>7645.861827</td>\n",
              "      <td>No</td>\n",
              "      <td>Basic</td>\n",
              "      <td>Bachelor</td>\n",
              "      <td>1/20/11</td>\n",
              "      <td>Unemployed</td>\n",
              "      <td>M</td>\n",
              "      <td>0</td>\n",
              "      <td>Suburban</td>\n",
              "      <td>Married</td>\n",
              "      <td>106</td>\n",
              "      <td>18</td>\n",
              "      <td>65</td>\n",
              "      <td>0</td>\n",
              "      <td>7</td>\n",
              "      <td>Corporate Auto</td>\n",
              "      <td>Corporate L2</td>\n",
              "      <td>Offer1</td>\n",
              "      <td>Call Center</td>\n",
              "      <td>529.881344</td>\n",
              "      <td>SUV</td>\n",
              "      <td>Medsize</td>\n",
              "    </tr>\n",
              "    <tr>\n",
              "      <th>4</th>\n",
              "      <td>HB64268</td>\n",
              "      <td>Washington</td>\n",
              "      <td>2813.692575</td>\n",
              "      <td>No</td>\n",
              "      <td>Basic</td>\n",
              "      <td>Bachelor</td>\n",
              "      <td>2/3/11</td>\n",
              "      <td>Employed</td>\n",
              "      <td>M</td>\n",
              "      <td>43836</td>\n",
              "      <td>Rural</td>\n",
              "      <td>Single</td>\n",
              "      <td>73</td>\n",
              "      <td>12</td>\n",
              "      <td>44</td>\n",
              "      <td>0</td>\n",
              "      <td>1</td>\n",
              "      <td>Personal Auto</td>\n",
              "      <td>Personal L1</td>\n",
              "      <td>Offer1</td>\n",
              "      <td>Agent</td>\n",
              "      <td>138.130879</td>\n",
              "      <td>Four-Door Car</td>\n",
              "      <td>Medsize</td>\n",
              "    </tr>\n",
              "    <tr>\n",
              "      <th>...</th>\n",
              "      <td>...</td>\n",
              "      <td>...</td>\n",
              "      <td>...</td>\n",
              "      <td>...</td>\n",
              "      <td>...</td>\n",
              "      <td>...</td>\n",
              "      <td>...</td>\n",
              "      <td>...</td>\n",
              "      <td>...</td>\n",
              "      <td>...</td>\n",
              "      <td>...</td>\n",
              "      <td>...</td>\n",
              "      <td>...</td>\n",
              "      <td>...</td>\n",
              "      <td>...</td>\n",
              "      <td>...</td>\n",
              "      <td>...</td>\n",
              "      <td>...</td>\n",
              "      <td>...</td>\n",
              "      <td>...</td>\n",
              "      <td>...</td>\n",
              "      <td>...</td>\n",
              "      <td>...</td>\n",
              "      <td>...</td>\n",
              "    </tr>\n",
              "    <tr>\n",
              "      <th>9129</th>\n",
              "      <td>LA72316</td>\n",
              "      <td>California</td>\n",
              "      <td>23405.987980</td>\n",
              "      <td>No</td>\n",
              "      <td>Basic</td>\n",
              "      <td>Bachelor</td>\n",
              "      <td>2/10/11</td>\n",
              "      <td>Employed</td>\n",
              "      <td>M</td>\n",
              "      <td>71941</td>\n",
              "      <td>Urban</td>\n",
              "      <td>Married</td>\n",
              "      <td>73</td>\n",
              "      <td>18</td>\n",
              "      <td>89</td>\n",
              "      <td>0</td>\n",
              "      <td>2</td>\n",
              "      <td>Personal Auto</td>\n",
              "      <td>Personal L1</td>\n",
              "      <td>Offer2</td>\n",
              "      <td>Web</td>\n",
              "      <td>198.234764</td>\n",
              "      <td>Four-Door Car</td>\n",
              "      <td>Medsize</td>\n",
              "    </tr>\n",
              "    <tr>\n",
              "      <th>9130</th>\n",
              "      <td>PK87824</td>\n",
              "      <td>California</td>\n",
              "      <td>3096.511217</td>\n",
              "      <td>Yes</td>\n",
              "      <td>Extended</td>\n",
              "      <td>College</td>\n",
              "      <td>2/12/11</td>\n",
              "      <td>Employed</td>\n",
              "      <td>F</td>\n",
              "      <td>21604</td>\n",
              "      <td>Suburban</td>\n",
              "      <td>Divorced</td>\n",
              "      <td>79</td>\n",
              "      <td>14</td>\n",
              "      <td>28</td>\n",
              "      <td>0</td>\n",
              "      <td>1</td>\n",
              "      <td>Corporate Auto</td>\n",
              "      <td>Corporate L3</td>\n",
              "      <td>Offer1</td>\n",
              "      <td>Branch</td>\n",
              "      <td>379.200000</td>\n",
              "      <td>Four-Door Car</td>\n",
              "      <td>Medsize</td>\n",
              "    </tr>\n",
              "    <tr>\n",
              "      <th>9131</th>\n",
              "      <td>TD14365</td>\n",
              "      <td>California</td>\n",
              "      <td>8163.890428</td>\n",
              "      <td>No</td>\n",
              "      <td>Extended</td>\n",
              "      <td>Bachelor</td>\n",
              "      <td>2/6/11</td>\n",
              "      <td>Unemployed</td>\n",
              "      <td>M</td>\n",
              "      <td>0</td>\n",
              "      <td>Suburban</td>\n",
              "      <td>Single</td>\n",
              "      <td>85</td>\n",
              "      <td>9</td>\n",
              "      <td>37</td>\n",
              "      <td>3</td>\n",
              "      <td>2</td>\n",
              "      <td>Corporate Auto</td>\n",
              "      <td>Corporate L2</td>\n",
              "      <td>Offer1</td>\n",
              "      <td>Branch</td>\n",
              "      <td>790.784983</td>\n",
              "      <td>Four-Door Car</td>\n",
              "      <td>Medsize</td>\n",
              "    </tr>\n",
              "    <tr>\n",
              "      <th>9132</th>\n",
              "      <td>UP19263</td>\n",
              "      <td>California</td>\n",
              "      <td>7524.442436</td>\n",
              "      <td>No</td>\n",
              "      <td>Extended</td>\n",
              "      <td>College</td>\n",
              "      <td>2/3/11</td>\n",
              "      <td>Employed</td>\n",
              "      <td>M</td>\n",
              "      <td>21941</td>\n",
              "      <td>Suburban</td>\n",
              "      <td>Married</td>\n",
              "      <td>96</td>\n",
              "      <td>34</td>\n",
              "      <td>3</td>\n",
              "      <td>0</td>\n",
              "      <td>3</td>\n",
              "      <td>Personal Auto</td>\n",
              "      <td>Personal L2</td>\n",
              "      <td>Offer3</td>\n",
              "      <td>Branch</td>\n",
              "      <td>691.200000</td>\n",
              "      <td>Four-Door Car</td>\n",
              "      <td>Large</td>\n",
              "    </tr>\n",
              "    <tr>\n",
              "      <th>9133</th>\n",
              "      <td>Y167826</td>\n",
              "      <td>California</td>\n",
              "      <td>2611.836866</td>\n",
              "      <td>No</td>\n",
              "      <td>Extended</td>\n",
              "      <td>College</td>\n",
              "      <td>2/14/11</td>\n",
              "      <td>Unemployed</td>\n",
              "      <td>M</td>\n",
              "      <td>0</td>\n",
              "      <td>Suburban</td>\n",
              "      <td>Single</td>\n",
              "      <td>77</td>\n",
              "      <td>3</td>\n",
              "      <td>90</td>\n",
              "      <td>0</td>\n",
              "      <td>1</td>\n",
              "      <td>Corporate Auto</td>\n",
              "      <td>Corporate L3</td>\n",
              "      <td>Offer4</td>\n",
              "      <td>Call Center</td>\n",
              "      <td>369.600000</td>\n",
              "      <td>Two-Door Car</td>\n",
              "      <td>Medsize</td>\n",
              "    </tr>\n",
              "  </tbody>\n",
              "</table>\n",
              "<p>8248 rows × 24 columns</p>\n",
              "</div>"
            ],
            "text/plain": [
              "     Customer       State  Customer Lifetime Value Response  Coverage  \\\n",
              "0     BU79786  Washington              2763.519279       No     Basic   \n",
              "1     QZ44356     Arizona              6979.535903       No  Extended   \n",
              "2     AI49188      Nevada             12887.431650       No   Premium   \n",
              "3     WW63253  California              7645.861827       No     Basic   \n",
              "4     HB64268  Washington              2813.692575       No     Basic   \n",
              "...       ...         ...                      ...      ...       ...   \n",
              "9129  LA72316  California             23405.987980       No     Basic   \n",
              "9130  PK87824  California              3096.511217      Yes  Extended   \n",
              "9131  TD14365  California              8163.890428       No  Extended   \n",
              "9132  UP19263  California              7524.442436       No  Extended   \n",
              "9133  Y167826  California              2611.836866       No  Extended   \n",
              "\n",
              "     Education Effective To Date EmploymentStatus Gender  Income  \\\n",
              "0     Bachelor           2/24/11         Employed      F   56274   \n",
              "1     Bachelor           1/31/11       Unemployed      F       0   \n",
              "2     Bachelor           2/19/11         Employed      F   48767   \n",
              "3     Bachelor           1/20/11       Unemployed      M       0   \n",
              "4     Bachelor            2/3/11         Employed      M   43836   \n",
              "...        ...               ...              ...    ...     ...   \n",
              "9129  Bachelor           2/10/11         Employed      M   71941   \n",
              "9130   College           2/12/11         Employed      F   21604   \n",
              "9131  Bachelor            2/6/11       Unemployed      M       0   \n",
              "9132   College            2/3/11         Employed      M   21941   \n",
              "9133   College           2/14/11       Unemployed      M       0   \n",
              "\n",
              "     Location Code Marital Status  Monthly Premium Auto  \\\n",
              "0         Suburban        Married                    69   \n",
              "1         Suburban         Single                    94   \n",
              "2         Suburban        Married                   108   \n",
              "3         Suburban        Married                   106   \n",
              "4            Rural         Single                    73   \n",
              "...            ...            ...                   ...   \n",
              "9129         Urban        Married                    73   \n",
              "9130      Suburban       Divorced                    79   \n",
              "9131      Suburban         Single                    85   \n",
              "9132      Suburban        Married                    96   \n",
              "9133      Suburban         Single                    77   \n",
              "\n",
              "      Months Since Last Claim  Months Since Policy Inception  \\\n",
              "0                          32                              5   \n",
              "1                          13                             42   \n",
              "2                          18                             38   \n",
              "3                          18                             65   \n",
              "4                          12                             44   \n",
              "...                       ...                            ...   \n",
              "9129                       18                             89   \n",
              "9130                       14                             28   \n",
              "9131                        9                             37   \n",
              "9132                       34                              3   \n",
              "9133                        3                             90   \n",
              "\n",
              "      Number of Open Complaints  Number of Policies     Policy Type  \\\n",
              "0                             0                   1  Corporate Auto   \n",
              "1                             0                   8   Personal Auto   \n",
              "2                             0                   2   Personal Auto   \n",
              "3                             0                   7  Corporate Auto   \n",
              "4                             0                   1   Personal Auto   \n",
              "...                         ...                 ...             ...   \n",
              "9129                          0                   2   Personal Auto   \n",
              "9130                          0                   1  Corporate Auto   \n",
              "9131                          3                   2  Corporate Auto   \n",
              "9132                          0                   3   Personal Auto   \n",
              "9133                          0                   1  Corporate Auto   \n",
              "\n",
              "            Policy Renew Offer Type Sales Channel  Total Claim Amount  \\\n",
              "0     Corporate L3           Offer1         Agent          384.811147   \n",
              "1      Personal L3           Offer3         Agent         1131.464935   \n",
              "2      Personal L3           Offer1         Agent          566.472247   \n",
              "3     Corporate L2           Offer1   Call Center          529.881344   \n",
              "4      Personal L1           Offer1         Agent          138.130879   \n",
              "...            ...              ...           ...                 ...   \n",
              "9129   Personal L1           Offer2           Web          198.234764   \n",
              "9130  Corporate L3           Offer1        Branch          379.200000   \n",
              "9131  Corporate L2           Offer1        Branch          790.784983   \n",
              "9132   Personal L2           Offer3        Branch          691.200000   \n",
              "9133  Corporate L3           Offer4   Call Center          369.600000   \n",
              "\n",
              "      Vehicle Class Vehicle Size  \n",
              "0      Two-Door Car      Medsize  \n",
              "1     Four-Door Car      Medsize  \n",
              "2      Two-Door Car      Medsize  \n",
              "3               SUV      Medsize  \n",
              "4     Four-Door Car      Medsize  \n",
              "...             ...          ...  \n",
              "9129  Four-Door Car      Medsize  \n",
              "9130  Four-Door Car      Medsize  \n",
              "9131  Four-Door Car      Medsize  \n",
              "9132  Four-Door Car        Large  \n",
              "9133   Two-Door Car      Medsize  \n",
              "\n",
              "[8248 rows x 24 columns]"
            ]
          },
          "execution_count": 16,
          "metadata": {},
          "output_type": "execute_result"
        }
      ],
      "source": [
        "df[df['Total Claim Amount'] > 100]"
      ]
    },
    {
      "cell_type": "code",
      "execution_count": null,
      "id": "ef64191c",
      "metadata": {
        "id": "ef64191c"
      },
      "outputs": [],
      "source": [
        "#i wont remove the outliers yet "
      ]
    },
    {
      "cell_type": "code",
      "execution_count": null,
      "id": "0e23e490",
      "metadata": {
        "id": "0e23e490"
      },
      "outputs": [],
      "source": []
    },
    {
      "cell_type": "code",
      "execution_count": null,
      "id": "bc63385a",
      "metadata": {
        "id": "bc63385a"
      },
      "outputs": [],
      "source": []
    },
    {
      "cell_type": "code",
      "execution_count": null,
      "id": "42bfdc9d",
      "metadata": {
        "id": "42bfdc9d"
      },
      "outputs": [],
      "source": []
    },
    {
      "cell_type": "code",
      "execution_count": null,
      "id": "0415345a",
      "metadata": {
        "id": "0415345a"
      },
      "outputs": [],
      "source": []
    },
    {
      "cell_type": "code",
      "execution_count": null,
      "id": "ed415d20",
      "metadata": {
        "id": "ed415d20"
      },
      "outputs": [],
      "source": []
    },
    {
      "cell_type": "code",
      "execution_count": null,
      "id": "147f9891",
      "metadata": {
        "id": "147f9891"
      },
      "outputs": [],
      "source": []
    }
  ],
  "metadata": {
    "kernelspec": {
      "display_name": "Python 3 (ipykernel)",
      "language": "python",
      "name": "python3"
    },
    "language_info": {
      "codemirror_mode": {
        "name": "ipython",
        "version": 3
      },
      "file_extension": ".py",
      "mimetype": "text/x-python",
      "name": "python",
      "nbconvert_exporter": "python",
      "pygments_lexer": "ipython3",
      "version": "3.9.12"
    },
    "colab": {
      "provenance": [],
      "include_colab_link": true
    }
  },
  "nbformat": 4,
  "nbformat_minor": 5
}